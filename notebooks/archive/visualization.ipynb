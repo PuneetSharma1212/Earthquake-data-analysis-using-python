{
 "cells": [
  {
   "cell_type": "code",
   "execution_count": 1,
   "metadata": {
    "collapsed": true,
    "jupyter": {
     "outputs_hidden": true
    }
   },
   "outputs": [
    {
     "name": "stdout",
     "output_type": "stream",
     "text": [
      "Collecting graphistry\n",
      "  Downloading graphistry-0.20.4-py3-none-any.whl (89 kB)\n",
      "Requirement already satisfied: pandas>=0.17.0 in c:\\users\\burse\\anaconda3\\envs\\studyenv\\lib\\site-packages (from graphistry) (1.3.4)\n",
      "Requirement already satisfied: protobuf>=2.6.0 in c:\\users\\burse\\anaconda3\\envs\\studyenv\\lib\\site-packages (from graphistry) (3.19.1)\n",
      "Requirement already satisfied: numpy in c:\\users\\burse\\anaconda3\\envs\\studyenv\\lib\\site-packages (from graphistry) (1.21.4)\n",
      "Requirement already satisfied: requests in c:\\users\\burse\\anaconda3\\envs\\studyenv\\lib\\site-packages (from graphistry) (2.26.0)\n",
      "Collecting pyarrow>=0.15.0\n",
      "  Downloading pyarrow-6.0.1-cp39-cp39-win_amd64.whl (15.5 MB)\n",
      "Requirement already satisfied: pytz>=2017.3 in c:\\users\\burse\\anaconda3\\envs\\studyenv\\lib\\site-packages (from pandas>=0.17.0->graphistry) (2021.3)\n",
      "Requirement already satisfied: python-dateutil>=2.7.3 in c:\\users\\burse\\anaconda3\\envs\\studyenv\\lib\\site-packages (from pandas>=0.17.0->graphistry) (2.8.2)\n",
      "Requirement already satisfied: urllib3<1.27,>=1.21.1 in c:\\users\\burse\\anaconda3\\envs\\studyenv\\lib\\site-packages (from requests->graphistry) (1.26.7)\n",
      "Requirement already satisfied: certifi>=2017.4.17 in c:\\users\\burse\\anaconda3\\envs\\studyenv\\lib\\site-packages (from requests->graphistry) (2021.10.8)\n",
      "Requirement already satisfied: idna<4,>=2.5 in c:\\users\\burse\\anaconda3\\envs\\studyenv\\lib\\site-packages (from requests->graphistry) (3.3)\n",
      "Requirement already satisfied: charset-normalizer~=2.0.0 in c:\\users\\burse\\anaconda3\\envs\\studyenv\\lib\\site-packages (from requests->graphistry) (2.0.7)\n",
      "Requirement already satisfied: six>=1.5 in c:\\users\\burse\\anaconda3\\envs\\studyenv\\lib\\site-packages (from python-dateutil>=2.7.3->pandas>=0.17.0->graphistry) (1.16.0)\n",
      "Installing collected packages: pyarrow, graphistry\n",
      "Successfully installed graphistry-0.20.4 pyarrow-6.0.1\n"
     ]
    },
    {
     "name": "stderr",
     "output_type": "stream",
     "text": [
      "  WARNING: The script plasma_store.exe is installed in 'C:\\Users\\burse\\AppData\\Roaming\\Python\\Python39\\Scripts' which is not on PATH.\n",
      "  Consider adding this directory to PATH or, if you prefer to suppress this warning, use --no-warn-script-location.\n"
     ]
    }
   ],
   "source": [
    "!pip install --user graphistry"
   ]
  },
  {
   "cell_type": "code",
   "execution_count": 6,
   "metadata": {
    "pycharm": {
     "name": "#%%\n"
    }
   },
   "outputs": [
    {
     "name": "stdout",
     "output_type": "stream",
     "text": [
      "# links 781803\n",
      "# events 260601\n",
      "# attrib entities 13040\n"
     ]
    },
    {
     "data": {
      "text/html": [
       "\n",
       "            <iframe id=\"835c33ee-8495-4787-9f46-5f34e1cdaf9a\" src=\"https://hub.graphistry.com/graph/graph.html?dataset=7009a0e62c2d4159bb903b610ecb52c6&type=arrow&viztoken=d86f0670-b57a-4e6e-9c93-8f88644c783c&usertag=14c8e1a7-pygraphistry-0.20.4&splashAfter=1637673957&info=true\"\n",
       "                    allowfullscreen=\"true\" webkitallowfullscreen=\"true\" mozallowfullscreen=\"true\"\n",
       "                    oallowfullscreen=\"true\" msallowfullscreen=\"true\"\n",
       "                    style=\"width:100%; height:500px; border: 1px solid #DDD; overflow: hidden\"\n",
       "                    \n",
       "            >\n",
       "            </iframe>\n",
       "        \n",
       "            <script>\n",
       "                try {\n",
       "                  $(\"#835c33ee-8495-4787-9f46-5f34e1cdaf9a\").bind('mousewheel', function(e) { e.preventDefault(); });\n",
       "                } catch (e) { console.error('exn catching scroll', e); }\n",
       "            </script>\n",
       "        "
      ],
      "text/plain": [
       "<IPython.core.display.HTML object>"
      ]
     },
     "execution_count": 6,
     "metadata": {},
     "output_type": "execute_result"
    }
   ],
   "source": [
    "import graphistry\n",
    "import pandas as pd\n",
    "\n",
    "graphistry.register(api=3, username='aswinvk28', password='ByrMAP@15')  # Free: hub.graphistry.com\n",
    "rows = pd.read_csv('../dataset/input_features.csv')\n",
    "graphistry.hypergraph(rows.iloc[:, 1:4])['graph'].plot()"
   ]
  },
  {
   "cell_type": "code",
   "execution_count": null,
   "metadata": {},
   "outputs": [],
   "source": []
  },
  {
   "cell_type": "code",
   "execution_count": null,
   "metadata": {},
   "outputs": [],
   "source": []
  },
  {
   "cell_type": "code",
   "execution_count": 11,
   "metadata": {},
   "outputs": [
    {
     "data": {
      "text/plain": [
       "(array([[ 7.07106781e-01, -1.11022302e-16],\n",
       "        [-7.07106781e-01,  1.11022302e-16]]),\n",
       " array([[ 0.70710678, -0.70710678],\n",
       "        [ 0.70710678,  0.70710678]]),\n",
       " array([1.00000000e+00, 2.46519033e-32]))"
      ]
     },
     "execution_count": 11,
     "metadata": {},
     "output_type": "execute_result"
    }
   ],
   "source": [
    "import numpy as np\n",
    "import pandas as pd\n",
    "\n",
    "# Make zero mean for the dataframe\n",
    "def demean_data(X_df):\n",
    "    '''\n",
    "    Demeaning the data\n",
    "    @param X_df: Pandas DataFrame or Series\n",
    "    @return: pd.DataFrame()\n",
    "    '''\n",
    "    return (X_df - X_df.mean(axis=0))\n",
    "\n",
    "# returns transformed x, prin components, var explained\n",
    "def principal_components_analysis(data):\n",
    "    '''\n",
    "    Principal Components Analysis conducted on Data by:\n",
    "        1. demeaning the Data\n",
    "        2. Symmetrisation of Input Matrix\n",
    "        3. Calculating Eigen Values and Eigen Vectors\n",
    "        4. Transforming to PCA Space by multiplying by Eigen Vectors\n",
    "        5. Calculating Explained Variance\n",
    "        6. Ordering the Results by Explained Variance\n",
    "    @param data: pd.DataFrame Data consisting of original data\n",
    "    @return: tuple()\n",
    "    '''\n",
    "    # get the original dimensions of a matrix\n",
    "    dimensions = data.shape[1]\n",
    "    # make zero mean of matrix\n",
    "    z = demean_data(data)\n",
    "    # make a matrix symmetric, invertible\n",
    "    symmetric_matrix = make_a_matrix_symmetric_invertible(z)\n",
    "    # find eigen values and eigen vectors\n",
    "    (eigenvalues, eigenvectors) = np.linalg.eig(symmetric_matrix)  # 'right-hand'\n",
    "    # returns transformed matrix\n",
    "    transformed_matrix = pca_transformed(z, eigenvectors, dimensions)\n",
    "    # find the principal components\n",
    "    pc = eigenvectors.T\n",
    "    # find explained variances\n",
    "    explained_variance = np.var(transformed_matrix, axis=0, ddof=1)  # col sample var\n",
    "    # take the sum of variances to 1 degree\n",
    "    sum_of_variances = np.sum(explained_variance)\n",
    "    # normalise the variances (take the ratio)\n",
    "    explained_variance_ratio = explained_variance / sum_of_variances\n",
    "    # order everything based on explained variance ratio\n",
    "    ordering = np.argsort(explained_variance_ratio)[::-1]\n",
    "    # order the transformed matrix\n",
    "    transformed_matrix = transformed_matrix[:,ordering]\n",
    "    pc = pc[ordering,:]\n",
    "    explained_variance_ratio = explained_variance_ratio[ordering]\n",
    "    return transformed_matrix, pc, explained_variance_ratio\n",
    "\n",
    "# this code will make a non-square matrix a square matrix, a symmetric matrix as well as an invertible matrix if the determinant is non-zero\n",
    "def make_a_matrix_symmetric_invertible(z):\n",
    "    '''\n",
    "    Symmetrising the Input Data\n",
    "    @param z: Input Data\n",
    "    @return: np.array\n",
    "    '''\n",
    "    return np.dot(z.T, z)\n",
    "\n",
    "# get the transformed matrix space\n",
    "def pca_transformed(z, eigenvectors, dimensions):\n",
    "    '''\n",
    "    Transforming the Input Data to PCA Space\n",
    "    @param z: Input Data\n",
    "    @param eigenvectors: Eigen vectors of Input data\n",
    "    @param dimensions: Dimensions Required\n",
    "    @return: np.array\n",
    "    '''\n",
    "    return np.dot(z, eigenvectors[:,0:dimensions])\n",
    "\n",
    "principal_components_analysis(pd.DataFrame(np.array([[1,0],[0,1]])))"
   ]
  },
  {
   "cell_type": "code",
   "execution_count": null,
   "metadata": {},
   "outputs": [],
   "source": []
  }
 ],
 "metadata": {
  "kernelspec": {
   "display_name": "Python 3 (ipykernel)",
   "language": "python",
   "name": "python3"
  },
  "language_info": {
   "codemirror_mode": {
    "name": "ipython",
    "version": 3
   },
   "file_extension": ".py",
   "mimetype": "text/x-python",
   "name": "python",
   "nbconvert_exporter": "python",
   "pygments_lexer": "ipython3",
   "version": "3.9.7"
  }
 },
 "nbformat": 4,
 "nbformat_minor": 4
}
