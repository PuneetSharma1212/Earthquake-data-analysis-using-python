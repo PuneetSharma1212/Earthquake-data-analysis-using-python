{
 "cells": [
  {
   "cell_type": "markdown",
   "metadata": {},
   "source": [
    "\n",
    "# Multi-label Classification\n",
    "\n",
    "This examples shows how to format the targets for a multilabel classification\n",
    "problem. Details on multilabel classification can be found\n",
    "`here <https://scikit-learn.org/stable/modules/multiclass.html>`_.\n"
   ]
  },
  {
   "cell_type": "code",
   "execution_count": 1,
   "metadata": {},
   "outputs": [],
   "source": [
    "import numpy as np\n",
    "import pandas as pd\n",
    "import sklearn\n",
    "import sklearn.datasets\n",
    "import sklearn.metrics\n",
    "from sklearn.utils.multiclass import type_of_target\n",
    "from sklearn.model_selection import train_test_split\n",
    "from sklearn.ensemble import RandomForestClassifier\n",
    "import shap\n",
    "\n",
    "# import autosklearn.classification"
   ]
  },
  {
   "cell_type": "markdown",
   "metadata": {},
   "source": [
    "## Data Loading\n",
    "\n"
   ]
  },
  {
   "cell_type": "code",
   "execution_count": 2,
   "metadata": {},
   "outputs": [],
   "source": [
    "# Using reuters multilabel dataset -- https://www.openml.org/d/40594\n",
    "# X, y = sklearn.datasets.fetch_openml(data_id=40594, return_X_y=True, as_frame=False)\n",
    "\n",
    "# read input data from file\n",
    "df = pd.read_csv('https://gis-bucket-aswinvk28.s3.eu-west-2.amazonaws.com/adp/dataset/input_features.csv')\n",
    "\n",
    "# read target values from file\n",
    "target = pd.read_csv('https://gis-bucket-aswinvk28.s3.eu-west-2.amazonaws.com/adp/dataset/target_values.csv')\n",
    "\n",
    "# Merge feature and target variables.\n",
    "join_df = pd.merge(df, target, on='building_id', how='left')\n",
    "# join_df.head(5)\n",
    "\n",
    "# fetch openml downloads a numpy array with TRUE/FALSE strings. Re-map it to\n",
    "# integer dtype with ones and zeros\n",
    "# This is to comply with Scikit-learn requirement:\n",
    "# \"Positive classes are indicated with 1 and negative classes with 0 or -1.\"\n",
    "# More information on: https://scikit-learn.org/stable/modules/multiclass.html\n",
    "\n",
    "# Creating attribute set for geographical attributes\n",
    "geographical_attributes = ['geo_level_1_id', 'geo_level_2_id', 'geo_level_3_id']\n",
    "# Creating attribute set for numerical measures\n",
    "numerical_measures = ['count_floors_pre_eq', 'age', 'area_percentage', 'height_percentage', 'count_families']\n",
    "# Creating attribute set for main categorical data involving building and land characteristics\n",
    "main_building_land_attributes = ['ground_floor_type', 'other_floor_type', 'legal_ownership_status', 'plan_configuration']\n",
    "# Creating attribute set for sub categorical data involving building and land characteristics\n",
    "sub_building_land_attributes = ['land_surface_condition', 'foundation_type', 'roof_type', 'position']\n",
    "# Creating attribute set for superstructure construction attributes\n",
    "superstructure_attributes = ['has_superstructure_adobe_mud', 'has_superstructure_mud_mortar_stone', 'has_superstructure_stone_flag', 'has_superstructure_cement_mortar_stone', 'has_superstructure_mud_mortar_brick', 'has_superstructure_cement_mortar_brick', 'has_superstructure_timber', 'has_superstructure_bamboo', 'has_superstructure_rc_non_engineered', 'has_superstructure_rc_engineered', 'has_superstructure_other']\n",
    "# Creating attribute set for secondary usage attributes\n",
    "secondary_usage_attributes = ['has_secondary_use', 'has_secondary_use_agriculture', 'has_secondary_use_hotel', 'has_secondary_use_rental', 'has_secondary_use_institution', 'has_secondary_use_school', 'has_secondary_use_industry', 'has_secondary_use_health_post', 'has_secondary_use_gov_office', 'has_secondary_use_use_police', 'has_secondary_use_other']\n",
    "\n",
    "# assigning category dtype to categorical variables\n",
    "join_df = join_df.astype({x: 'category' for x in main_building_land_attributes})\n",
    "join_df = join_df.astype({x: 'category' for x in sub_building_land_attributes})\n",
    "# assigning category dtype for target variable\n",
    "join_df = join_df.astype({'damage_grade': 'category'})\n",
    "# assigning int32 for numerical measures\n",
    "join_df = join_df.astype({x: 'int32' for x in numerical_measures})\n",
    "# assigning int32 for geo level attributes\n",
    "join_df = join_df.astype({x: 'int32' for x in geographical_attributes})\n",
    "\n",
    "# Using type of target is a good way to make sure your data\n",
    "# is properly formatted\n",
    "# print(f\"type_of_target={type_of_target(y)}\")\n",
    "\n",
    "X_train, X_test, y_train, y_test = train_test_split(\n",
    "    pd.get_dummies(join_df.drop(columns=['damage_grade'])), join_df['damage_grade'], random_state=1\n",
    ")"
   ]
  },
  {
   "cell_type": "markdown",
   "metadata": {},
   "source": [
    "## Building the classifier\n",
    "\n"
   ]
  },
  {
   "cell_type": "code",
   "execution_count": 3,
   "metadata": {},
   "outputs": [
    {
     "data": {
      "text/plain": [
       "RandomForestClassifier()"
      ]
     },
     "execution_count": 3,
     "metadata": {},
     "output_type": "execute_result"
    }
   ],
   "source": [
    "rf = RandomForestClassifier()\n",
    "rf.fit(X_train, y_train)"
   ]
  },
  {
   "cell_type": "markdown",
   "metadata": {},
   "source": [
    "## View the models found by auto-sklearn\n",
    "\n"
   ]
  },
  {
   "cell_type": "code",
   "execution_count": 4,
   "metadata": {},
   "outputs": [
    {
     "name": "stdout",
     "output_type": "stream",
     "text": [
      "0.7186382403953891\n"
     ]
    }
   ],
   "source": [
    "print(rf.score(X_test, y_test))"
   ]
  },
  {
   "cell_type": "markdown",
   "metadata": {},
   "source": [
    "## Print the final ensemble constructed by auto-sklearn\n",
    "\n"
   ]
  },
  {
   "cell_type": "code",
   "execution_count": null,
   "metadata": {
    "pycharm": {
     "is_executing": true
    }
   },
   "outputs": [],
   "source": [
    "explainer = shap.TreeExplainer(rf)\n",
    "shap_values = explainer.shap_values(pd.get_dummies(join_df.drop(columns=['damage_grade'])))"
   ]
  },
  {
   "cell_type": "markdown",
   "metadata": {},
   "source": [
    "## Print statistics about the auto-sklearn run\n",
    "\n"
   ]
  },
  {
   "cell_type": "code",
   "execution_count": null,
   "metadata": {},
   "outputs": [],
   "source": [
    "shap.summary_plot(shap_values, X_test, plot_type='bar')"
   ]
  },
  {
   "cell_type": "markdown",
   "metadata": {},
   "source": [
    "## Get the Score of the final ensemble\n",
    "\n"
   ]
  },
  {
   "cell_type": "code",
   "execution_count": null,
   "metadata": {},
   "outputs": [],
   "source": [
    "shap.dependence_plot(\"age\", shap_values, X_test)"
   ]
  }
 ],
 "metadata": {
  "kernelspec": {
   "display_name": "Python 3 (ipykernel)",
   "language": "python",
   "name": "python3"
  },
  "language_info": {
   "codemirror_mode": {
    "name": "ipython",
    "version": 3
   },
   "file_extension": ".py",
   "mimetype": "text/x-python",
   "name": "python",
   "nbconvert_exporter": "python",
   "pygments_lexer": "ipython3",
   "version": "3.8.12"
  }
 },
 "nbformat": 4,
 "nbformat_minor": 1
}