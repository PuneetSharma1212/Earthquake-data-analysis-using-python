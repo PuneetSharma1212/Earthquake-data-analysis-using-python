{
 "cells": [
  {
   "cell_type": "markdown",
   "metadata": {
    "collapsed": true,
    "pycharm": {
     "name": "#%% md\n"
    }
   },
   "source": [
    "<p align=\"center\" style=\"font-weight:bold;font-size:64px\">\n",
    "Exploratory Data Analysis\n",
    "</p>\n",
    "\n",
    "# Data Science Project (Earthquake Dataset)\n",
    "\n",
    "<p align=\"left\" style=\"margin-bottom: 0px !important;\">\n",
    "  <a href=\"https://github.com/DS-Group5-ADP/Practical-Project\"><img width=\"200\" src=\"https://gis-bucket-aswinvk28.s3.eu-west-2.amazonaws.com/adp/buildings-and-earthquakes.jpg\" alt=\"Earthquake and Data Science\" title=\"Earthquake and Data Science\" align=\"center\"></a>\n",
    "</p>\n",
    "\n",
    "<a href=\"https://github.com/DS-Group5-ADP/Practical-Project\">Project Repository</a>\n",
    "\n",
    "# [Understand building and land characteristics associated with earthquakes, by getting insights of data.](https://github.com/DS-Group5-ADP/Practical-Project)\n",
    "\n",
    "<p align=\"left\" style=\"font-style:italic;text-decoration:underline\">\n",
    "A Practical Project undertaken by students at Kingston University with Applied Data Programming for Group 5\n",
    "</p>\n",
    "\n",
    "*Under **Dr. Nabajeet Barman** supervision, the group members are:*\n",
    "\n",
    "- **Aswin Vijayakumar**, **K2142045**, <a href=\"mailto:k2142045@kingston.ac.uk\">k2142045@kingston.ac.uk</a>\n",
    "- **Prem Sai Kanigalpula**, **K2042054**, <a href=\"mailto:k2042054@kingston.ac.uk\">k2042054@kingston.ac.uk</a>\n",
    "- **Puneet Sharma**, **K2055698**, <a href=\"mailto:k2055698@kingston.ac.uk\">k2055698@kingston.ac.uk</a>\n",
    "- **Srinivas Rao Kanisetti**, **K2101945**, <a href=\"mailto:k2101945@kingston.ac.uk\">k2101945@kingston.ac.uk</a>"
   ]
  },
  {
   "cell_type": "markdown",
   "metadata": {
    "pycharm": {
     "name": "#%% md\n"
    }
   },
   "source": [
    "# Dataset\n",
    "\n",
    "## ATTRIBUTE CLASSIFICATION OF THE DATASET"
   ]
  },
  {
   "cell_type": "markdown",
   "metadata": {
    "pycharm": {
     "name": "#%% md\n"
    }
   },
   "source": [
    "### Geographical Attributes (input_features.csv)\n",
    "\n",
    "- **1.INT.1** ***geo_level_1_id:*** Level 1 Geographical Region of a building, Ranges from 0-30\n",
    "- **2.INT.2** ***geo_level_2_id:*** Level 2 Geographical Region of a building, Ranges from 0-1427\n",
    "- **3.INT.3** ***geo_level_3_id:*** Level 3 Geographical Region of a building, Ranges from 0-12567\n",
    "\n",
    "### Numerical Measures (input_features.csv)\n",
    "\n",
    "- **4.INT.1** ***count_floors_pre_eq:*** Number of floors of a building before the earthquake\n",
    "- **5.INT.2** ***age:*** The building age (in years)\n",
    "- **6.INT.3** ***area_percentage:*** Normalized area of building footprint\n",
    "- **7.INT.4** ***height_percentage:*** Normalized height of building footprint\n",
    "- **8.INT.5** ***count_families:*** Number of families that live in a building\n",
    "\n",
    "### Main Building/Land Characteristics (input_features.csv)\n",
    "\n",
    "- **9.CATEGORICAL.1**       ***ground_floor_type:*** type of the ground floor (GFT), Discrete: f,m,v,x,z\n",
    "- **10.CATEGORICAL.2**      ***other_floor_type:*** type of construction used in higher than the ground floors (except for\n",
    "  the roof) (OFT), Discrete: j,q,s,x\n",
    "- **11.CATEGORICAL.3**      ***legal_ownership_status:*** legal ownership status of the land where the building was built,\n",
    "  Discrete: a,r,v,w\n",
    "- **12.CATEGORICAL.4**      ***plan_configuration:*** building plan configuration, Discrete: a,c,d,f,m,n,o,q,s,u\n",
    "\n",
    "### Sub Building/Land Characteristics (input_features.csv)\n",
    "\n",
    "- **13.CATEGORICAL.1**      ***land_surface_condition:*** Surface condition of the land where the building was built,\n",
    "  Discrete: n,o,t\n",
    "- **14.CATEGORICAL.2**      ***foundation_type:*** type of foundation used while building, Discrete: h,i,r,u,w\n",
    "- **15.CATEGORICAL.3**      ***roof_type:*** type of roof used while building, Discrete: n,q,x\n",
    "- **16.CATEGORICAL.4**      ***position:*** Position of the building, Discrete: n,o,t\n",
    "\n",
    "### Superstructure Construction Attributes (input_features.csv)\n",
    "\n",
    "- **17.BINARY.1** ***has_superstructure_adobe_mud:*** flag variable that indicates if the superstructure was made of\n",
    "  Adobe/Mud\n",
    "- **18.BINARY.2** ***has_superstructure_mud_mortar_stone:*** flag variable that indicates if the superstructure was made\n",
    "  of Mud Mortar - Stone\n",
    "- **19.BINARY.3** ***has_superstructure_stone_flag:*** flag variable that indicates if the superstructure was made of\n",
    "  Stone\n",
    "- **20.BINARY.4** ***has_superstructure_cement_mortar_stone:*** flag variable that indicates if the superstructure was\n",
    "  made of Cement Mortar - Stone\n",
    "- **21.BINARY.5** ***has_superstructure_mud_mortar_brick:*** flag variable that indicates if the superstructure was made\n",
    "  of Mud Mortar - Brick\n",
    "- **22.BINARY.6** ***has_superstructure_cement_mortar_brick:*** flag variable that indicates if the superstructure was\n",
    "  made of Cement Mortar - Brick\n",
    "- **23.BINARY.7** ***has_superstructure_timber:*** flag variable that indicates if the superstructure was made of Timber\n",
    "- **24.BINARY.8** ***has_superstructure_bamboo:*** flag variable that indicates if the superstructure was made of Bamboo\n",
    "- **25.BINARY.9** ***has_superstructure_rc_non_engineered:*** flag variable that indicates if the superstructure was\n",
    "  made of non-engineered reinforced concrete\n",
    "- **26.BINARY.10** ***has_superstructure_rc_engineered:*** flag variable that indicates if the superstructure was made\n",
    "  of engineered reinforced concrete\n",
    "- **27.BINARY.11** ***has_superstructure_rc_engineered:*** flag variable that indicates if the superstructure was made\n",
    "  of any other material\n",
    "\n",
    "### Secondary Usage Attributes (input_features.csv)\n",
    "\n",
    "- **28.BINARY.12** ***has_secondary_use:*** flag variable that indicates if the building was used\n",
    "  for any secondary purpose\n",
    "- **29.BINARY.13** ***has_secondary_use_agriculture:*** flag variable that indicates if the\n",
    "  building was used for agricultural purposes\n",
    "- **30.BINARY.14** ***has_secondary_use_hotel:*** flag variable that indicates if the building\n",
    "  was used as a hotel\n",
    "- **31.BINARY.15** ***has_secondary_use_rental:*** flag variable that indicates if the building\n",
    "  was used for rental purposes\n",
    "- **32.BINARY.16** ***has_secondary_use_institution:*** flag variable that indicates if the\n",
    "  building was used as a location of any institution\n",
    "- **33.BINARY.17** ***has_secondary_use_school:*** flag variable that indicates if the building\n",
    "  was used as a school\n",
    "- **34.BINARY.18** ***has_secondary_use_industry:*** flag variable that indicates if the building\n",
    "  was used for industrial purposes\n",
    "- **35.BINARY.19** ***has_secondary_use_health_post:*** flag variable that indicates if the\n",
    "  building was used as a health post\n",
    "- **36.BINARY.20** ***has_secondary_use_gov_office:*** flag variable that indicates if the\n",
    "  building was used fas a government office\n",
    "- **37.BINARY.21** ***has_secondary_use_use_police:*** flag variable that indicates if the\n",
    "  building was used as a police station\n",
    "- **38.BINARY.22** ***has_secondary_use_other:*** flag variable that indicates if the building\n",
    "  was secondarily used for other purposes\n",
    "\n",
    "### Damage Impact Attributes (target_values.csv)\n",
    "\n",
    "- **39.BINARY.22** ***building_id:*** unique random identifier of a building\n",
    "- **40.BINARY.22** ***damage_grade:*** represents a level of damage to a building that was hit by earthquake,\n",
    "    - 1 represents low damage\n",
    "    - 2 represents a medium amount of damage\n",
    "    - 3 represents almost complete destruction\n",
    "\n",
    "The dataset is a structured dataset containing information on geographical attributes and different building and land\n",
    "attributes/characteristics. The geo levels (geographical) attributes, designate a hierarchy of values increasing from 0\n",
    "onwards at each level."
   ]
  },
  {
   "cell_type": "markdown",
   "metadata": {
    "pycharm": {
     "name": "#%% md\n"
    }
   },
   "source": [
    "# Initial Data Analysis"
   ]
  },
  {
   "cell_type": "code",
   "execution_count": 5,
   "metadata": {
    "pycharm": {
     "name": "#%%\n"
    }
   },
   "outputs": [],
   "source": [
    "# import necessary libraries\n",
    "import pandas as pd\n",
    "import numpy as np\n",
    "import matplotlib.pyplot as plt\n",
    "#from matplotlib_venn import venn2\n",
    "import seaborn as sns\n",
    "from matplotlib.lines import Line2D\n",
    "import itertools\n",
    "from collections import Counter\n",
    "import plotly.express as px\n",
    "import plotly.graph_objects as go\n",
    "from plotly.subplots import make_subplots\n",
    "from plotly.offline import init_notebook_mode, iplot, plot\n",
    "# plt.rcParams.update({'font.size': 20})"
   ]
  },
  {
   "cell_type": "code",
   "execution_count": 6,
   "metadata": {
    "pycharm": {
     "name": "#%%\n"
    }
   },
   "outputs": [],
   "source": [
    "# read input data from file\n",
    "df = pd.read_csv('input_features.csv')\n",
    "\n",
    "# read target values from file\n",
    "target = pd.read_csv('target_values.csv')"
   ]
  },
  {
   "cell_type": "code",
   "execution_count": 7,
   "metadata": {
    "pycharm": {
     "name": "#%%\n"
    }
   },
   "outputs": [
    {
     "data": {
      "text/html": [
       "<div>\n",
       "<style scoped>\n",
       "    .dataframe tbody tr th:only-of-type {\n",
       "        vertical-align: middle;\n",
       "    }\n",
       "\n",
       "    .dataframe tbody tr th {\n",
       "        vertical-align: top;\n",
       "    }\n",
       "\n",
       "    .dataframe thead th {\n",
       "        text-align: right;\n",
       "    }\n",
       "</style>\n",
       "<table border=\"1\" class=\"dataframe\">\n",
       "  <thead>\n",
       "    <tr style=\"text-align: right;\">\n",
       "      <th></th>\n",
       "      <th>building_id</th>\n",
       "      <th>geo_level_1_id</th>\n",
       "      <th>geo_level_2_id</th>\n",
       "      <th>geo_level_3_id</th>\n",
       "      <th>count_floors_pre_eq</th>\n",
       "      <th>age</th>\n",
       "      <th>area_percentage</th>\n",
       "      <th>height_percentage</th>\n",
       "      <th>land_surface_condition</th>\n",
       "      <th>foundation_type</th>\n",
       "      <th>...</th>\n",
       "      <th>has_secondary_use_hotel</th>\n",
       "      <th>has_secondary_use_rental</th>\n",
       "      <th>has_secondary_use_institution</th>\n",
       "      <th>has_secondary_use_school</th>\n",
       "      <th>has_secondary_use_industry</th>\n",
       "      <th>has_secondary_use_health_post</th>\n",
       "      <th>has_secondary_use_gov_office</th>\n",
       "      <th>has_secondary_use_use_police</th>\n",
       "      <th>has_secondary_use_other</th>\n",
       "      <th>damage_grade</th>\n",
       "    </tr>\n",
       "  </thead>\n",
       "  <tbody>\n",
       "    <tr>\n",
       "      <th>0</th>\n",
       "      <td>802906</td>\n",
       "      <td>6</td>\n",
       "      <td>487</td>\n",
       "      <td>12198</td>\n",
       "      <td>2</td>\n",
       "      <td>30</td>\n",
       "      <td>6</td>\n",
       "      <td>5</td>\n",
       "      <td>t</td>\n",
       "      <td>r</td>\n",
       "      <td>...</td>\n",
       "      <td>0</td>\n",
       "      <td>0</td>\n",
       "      <td>0</td>\n",
       "      <td>0</td>\n",
       "      <td>0</td>\n",
       "      <td>0</td>\n",
       "      <td>0</td>\n",
       "      <td>0</td>\n",
       "      <td>0</td>\n",
       "      <td>3</td>\n",
       "    </tr>\n",
       "    <tr>\n",
       "      <th>1</th>\n",
       "      <td>28830</td>\n",
       "      <td>8</td>\n",
       "      <td>900</td>\n",
       "      <td>2812</td>\n",
       "      <td>2</td>\n",
       "      <td>10</td>\n",
       "      <td>8</td>\n",
       "      <td>7</td>\n",
       "      <td>o</td>\n",
       "      <td>r</td>\n",
       "      <td>...</td>\n",
       "      <td>0</td>\n",
       "      <td>0</td>\n",
       "      <td>0</td>\n",
       "      <td>0</td>\n",
       "      <td>0</td>\n",
       "      <td>0</td>\n",
       "      <td>0</td>\n",
       "      <td>0</td>\n",
       "      <td>0</td>\n",
       "      <td>2</td>\n",
       "    </tr>\n",
       "    <tr>\n",
       "      <th>2</th>\n",
       "      <td>94947</td>\n",
       "      <td>21</td>\n",
       "      <td>363</td>\n",
       "      <td>8973</td>\n",
       "      <td>2</td>\n",
       "      <td>10</td>\n",
       "      <td>5</td>\n",
       "      <td>5</td>\n",
       "      <td>t</td>\n",
       "      <td>r</td>\n",
       "      <td>...</td>\n",
       "      <td>0</td>\n",
       "      <td>0</td>\n",
       "      <td>0</td>\n",
       "      <td>0</td>\n",
       "      <td>0</td>\n",
       "      <td>0</td>\n",
       "      <td>0</td>\n",
       "      <td>0</td>\n",
       "      <td>0</td>\n",
       "      <td>3</td>\n",
       "    </tr>\n",
       "    <tr>\n",
       "      <th>3</th>\n",
       "      <td>590882</td>\n",
       "      <td>22</td>\n",
       "      <td>418</td>\n",
       "      <td>10694</td>\n",
       "      <td>2</td>\n",
       "      <td>10</td>\n",
       "      <td>6</td>\n",
       "      <td>5</td>\n",
       "      <td>t</td>\n",
       "      <td>r</td>\n",
       "      <td>...</td>\n",
       "      <td>0</td>\n",
       "      <td>0</td>\n",
       "      <td>0</td>\n",
       "      <td>0</td>\n",
       "      <td>0</td>\n",
       "      <td>0</td>\n",
       "      <td>0</td>\n",
       "      <td>0</td>\n",
       "      <td>0</td>\n",
       "      <td>2</td>\n",
       "    </tr>\n",
       "    <tr>\n",
       "      <th>4</th>\n",
       "      <td>201944</td>\n",
       "      <td>11</td>\n",
       "      <td>131</td>\n",
       "      <td>1488</td>\n",
       "      <td>3</td>\n",
       "      <td>30</td>\n",
       "      <td>8</td>\n",
       "      <td>9</td>\n",
       "      <td>t</td>\n",
       "      <td>r</td>\n",
       "      <td>...</td>\n",
       "      <td>0</td>\n",
       "      <td>0</td>\n",
       "      <td>0</td>\n",
       "      <td>0</td>\n",
       "      <td>0</td>\n",
       "      <td>0</td>\n",
       "      <td>0</td>\n",
       "      <td>0</td>\n",
       "      <td>0</td>\n",
       "      <td>3</td>\n",
       "    </tr>\n",
       "  </tbody>\n",
       "</table>\n",
       "<p>5 rows × 40 columns</p>\n",
       "</div>"
      ],
      "text/plain": [
       "   building_id  geo_level_1_id  geo_level_2_id  geo_level_3_id  \\\n",
       "0       802906               6             487           12198   \n",
       "1        28830               8             900            2812   \n",
       "2        94947              21             363            8973   \n",
       "3       590882              22             418           10694   \n",
       "4       201944              11             131            1488   \n",
       "\n",
       "   count_floors_pre_eq  age  area_percentage  height_percentage  \\\n",
       "0                    2   30                6                  5   \n",
       "1                    2   10                8                  7   \n",
       "2                    2   10                5                  5   \n",
       "3                    2   10                6                  5   \n",
       "4                    3   30                8                  9   \n",
       "\n",
       "  land_surface_condition foundation_type  ... has_secondary_use_hotel  \\\n",
       "0                      t               r  ...                       0   \n",
       "1                      o               r  ...                       0   \n",
       "2                      t               r  ...                       0   \n",
       "3                      t               r  ...                       0   \n",
       "4                      t               r  ...                       0   \n",
       "\n",
       "  has_secondary_use_rental has_secondary_use_institution  \\\n",
       "0                        0                             0   \n",
       "1                        0                             0   \n",
       "2                        0                             0   \n",
       "3                        0                             0   \n",
       "4                        0                             0   \n",
       "\n",
       "  has_secondary_use_school has_secondary_use_industry  \\\n",
       "0                        0                          0   \n",
       "1                        0                          0   \n",
       "2                        0                          0   \n",
       "3                        0                          0   \n",
       "4                        0                          0   \n",
       "\n",
       "   has_secondary_use_health_post  has_secondary_use_gov_office  \\\n",
       "0                              0                             0   \n",
       "1                              0                             0   \n",
       "2                              0                             0   \n",
       "3                              0                             0   \n",
       "4                              0                             0   \n",
       "\n",
       "   has_secondary_use_use_police  has_secondary_use_other  damage_grade  \n",
       "0                             0                        0             3  \n",
       "1                             0                        0             2  \n",
       "2                             0                        0             3  \n",
       "3                             0                        0             2  \n",
       "4                             0                        0             3  \n",
       "\n",
       "[5 rows x 40 columns]"
      ]
     },
     "execution_count": 7,
     "metadata": {},
     "output_type": "execute_result"
    }
   ],
   "source": [
    "# Merge feature and target variables.\n",
    "join_df = pd.merge(df, target, on='building_id', how='inner')\n",
    "join_df.head(5)"
   ]
  },
  {
   "cell_type": "markdown",
   "metadata": {},
   "source": [
    "# RQ 5 :How are families affected by earthquake\n",
    "\n"
   ]
  },
  {
   "cell_type": "code",
   "execution_count": 12,
   "metadata": {},
   "outputs": [
    {
     "data": {
      "image/png": "[encoded data removed]",
      "text/plain": [
       "<Figure size 864x576 with 1 Axes>"
      ]
     },
     "metadata": {
      "needs_background": "light"
     },
     "output_type": "display_data"
    }
   ],
   "source": [
    "# copy of original dataset\n",
    "temp_df = join_df.copy()\n",
    "# map from 1,2,3 to low,medium,high\n",
    "temp_df[\"damage_grade\"] = temp_df[\"damage_grade\"].map(\n",
    "    {1: \"low\", 2: \"medium\", 3: \"high\"}\n",
    ")\n",
    "\n",
    "# setting figure size\n",
    "fig = plt.figure(figsize=(12,8))\n",
    "fig.tight_layout(pad=1.0)\n",
    "# pandas plotting bar plot\n",
    "ax=temp_df.groupby(\"damage_grade\")[\"count_families\"].sum().sort_values().plot.bar(color=[\"green\",\"red\",\n",
    "                                                                                            \"blue\"],)\n",
    "# print(temp_df.groupby(\"damage_grade\")[\"count_families\"].sum().sort_values())\n",
    "\n",
    "# calculating the height of bars\n",
    "totals = []\n",
    "for i in ax.patches:\n",
    "    totals.append(i.get_height())\n",
    "#     print(i.get_height())\n",
    "total = sum(totals)\n",
    "# print(total)\n",
    "\n",
    "# setting the percentage values on top of each bar\n",
    "for i in ax.patches:\n",
    "    # get_x pulls left or right; get_height pushes up or down\n",
    "    ax.text(i.get_x()+.12, i.get_height()+5,\n",
    "            str(round((i.get_height()/total)*100, 2))+'%', fontsize=15,\n",
    "            color='black')\n",
    "# setting title and labels\n",
    "fig.suptitle(\"Families Affected due to earthquake\")\n",
    "plt.ylabel(\"Number of families\")\n",
    "plt.xlabel(\"Damage Grade\")\n",
    "plt.show()"
   ]
  },
  {
   "cell_type": "markdown",
   "metadata": {},
   "source": [
    "# Visualization\n",
    "\n",
    "- Visualization is performed by using Pandas data frame\n",
    "- The X-axis represents the Damage grade \n",
    "- The Y-axis represents the Number of Families \n",
    "\n",
    "# Facts:\n",
    "\n",
    "- There are total 256418 families in the given dataset.\n",
    "- There are 3 damage grade levels.1 represent low damage grade,2 represent medium damage grade and 3 represent high damage     grade\n",
    " \n",
    "\n",
    "\n",
    "\n",
    "\n",
    "# observations\n",
    "\n",
    "Out of 256418 familes:\n",
    "- 22991 families are affected by low damage grade level which constitutes of 8.97%\n",
    "- 145593 families are affected by medium damage grade which constitutes of 56.78%\n",
    "- 87834 families are affected by high damage grade which constitutes of 34.25%\n",
    "\n",
    "Most number of familes are affected my medium damage grade \n",
    "\n",
    "Least number of families are affected by low damage grade\n",
    "\n"
   ]
  },
  {
   "cell_type": "markdown",
   "metadata": {},
   "source": [
    "# RQ 9: Damage grade distribution for each plan configuration \n"
   ]
  },
  {
   "cell_type": "code",
   "execution_count": 16,
   "metadata": {
    "scrolled": true
   },
   "outputs": [
    {
     "data": {
      "application/vnd.plotly.v1+json": {
       "config": {
        "plotlyServerURL": "https://plot.ly"
       },
       "data": [
        {
         "branchvalues": "total",
         "customdata": [
          [
           3
          ],
          [
           1
          ],
          [
           3
          ],
          [
           3
          ],
          [
           3
          ],
          [
           1
          ],
          [
           3
          ],
          [
           1
          ],
          [
           1
          ],
          [
           1
          ],
          [
           3
          ],
          [
           1
          ],
          [
           1
          ],
          [
           1
          ],
          [
           1
          ],
          [
           2.9999999999999996
          ],
          [
           3
          ],
          [
           3
          ],
          [
           3
          ],
          [
           2
          ],
          [
           2
          ],
          [
           2
          ],
          [
           2
          ],
          [
           2
          ],
          [
           2
          ],
          [
           2
          ],
          [
           2
          ],
          [
           2
          ],
          [
           2
          ],
          [
           1
          ],
          [
           1
          ],
          [
           1
          ],
          [
           1
          ],
          [
           1
          ],
          [
           1
          ],
          [
           1
          ],
          [
           1
          ],
          [
           1
          ],
          [
           2
          ],
          [
           2
          ],
          [
           2
          ],
          [
           2
          ],
          [
           2
          ],
          [
           2
          ],
          [
           2
          ],
          [
           2
          ],
          [
           2
          ],
          [
           2
          ],
          [
           3
          ],
          [
           3
          ],
          [
           3
          ],
          [
           2.9999999999999996
          ],
          [
           3
          ],
          [
           3
          ],
          [
           3
          ],
          [
           3
          ],
          [
           3
          ],
          [
           3
          ],
          [
           1.853174603174603
          ],
          [
           1.8369230769230769
          ],
          [
           2.24364583000096
          ],
          [
           2.272727272727273
          ],
          [
           1.9130434782608694
          ],
          [
           2.1578947368421053
          ],
          [
           1.893081761006289
          ],
          [
           2.2714335910049193
          ],
          [
           2.049132947976879
          ],
          [
           1.918333790079474
          ]
         ],
         "domain": {
          "x": [
           0,
           1
          ],
          "y": [
           0,
           1
          ]
         },
         "hovertemplate": "labels=%{label}<br>count=%{value}<br>parent=%{parent}<br>id=%{id}<br>damage_grade=%{color}<extra></extra>",
         "ids": [
          "m/3/8.695652173913043",
          "d/1/9.32131546114719",
          "c/3/10.153846153846153",
          "a/3/11.507936507936508",
          "u/3/13.044669772540422",
          "q/1/13.721011946591707",
          "o/3/14.465408805031446",
          "s/1/15.31791907514451",
          "n/1/15.789473684210526",
          "m/1/17.391304347826086",
          "s/3/20.23121387283237",
          "u/1/21.211290764593038",
          "o/1/25.157232704402517",
          "a/1/26.19047619047619",
          "c/1/26.46153846153846",
          "f/3/27.272727272727273",
          "n/3/31.57894736842105",
          "d/3/33.68589846124316",
          "q/3/40.86437104708363",
          "q/2/45.41461700632467",
          "n/2/52.63157894736842",
          "d/2/56.99278607760965",
          "o/2/60.37735849056604",
          "a/2/62.301587301587304",
          "c/2/63.38461538461539",
          "s/2/64.45086705202313",
          "u/2/65.74403946286654",
          "f/2/72.72727272727273",
          "m/2/73.91304347826087",
          "a/1",
          "c/1",
          "d/1",
          "m/1",
          "n/1",
          "o/1",
          "q/1",
          "s/1",
          "u/1",
          "a/2",
          "c/2",
          "d/2",
          "f/2",
          "m/2",
          "n/2",
          "o/2",
          "q/2",
          "s/2",
          "u/2",
          "a/3",
          "c/3",
          "d/3",
          "f/3",
          "m/3",
          "n/3",
          "o/3",
          "q/3",
          "s/3",
          "u/3",
          "a",
          "c",
          "d",
          "f",
          "m",
          "n",
          "o",
          "q",
          "s",
          "u"
         ],
         "labels": [
          "8.695652173913043",
          "9.32131546114719",
          "10.153846153846153",
          "11.507936507936508",
          "13.044669772540422",
          "13.721011946591707",
          "14.465408805031446",
          "15.31791907514451",
          "15.789473684210526",
          "17.391304347826086",
          "20.23121387283237",
          "21.211290764593038",
          "25.157232704402517",
          "26.19047619047619",
          "26.46153846153846",
          "27.272727272727273",
          "31.57894736842105",
          "33.68589846124316",
          "40.86437104708363",
          "45.41461700632467",
          "52.63157894736842",
          "56.99278607760965",
          "60.37735849056604",
          "62.301587301587304",
          "63.38461538461539",
          "64.45086705202313",
          "65.74403946286654",
          "72.72727272727273",
          "73.91304347826087",
          "1",
          "1",
          "1",
          "1",
          "1",
          "1",
          "1",
          "1",
          "1",
          "2",
          "2",
          "2",
          "2",
          "2",
          "2",
          "2",
          "2",
          "2",
          "2",
          "3",
          "3",
          "3",
          "3",
          "3",
          "3",
          "3",
          "3",
          "3",
          "3",
          "a",
          "c",
          "d",
          "f",
          "m",
          "n",
          "o",
          "q",
          "s",
          "u"
         ],
         "marker": {
          "coloraxis": "coloraxis",
          "colors": [
           3,
           1,
           3,
           3,
           3,
           1,
           3,
           1,
           1,
           1,
           3,
           1,
           1,
           1,
           1,
           2.9999999999999996,
           3,
           3,
           3,
           2,
           2,
           2,
           2,
           2,
           2,
           2,
           2,
           2,
           2,
           1,
           1,
           1,
           1,
           1,
           1,
           1,
           1,
           1,
           2,
           2,
           2,
           2,
           2,
           2,
           2,
           2,
           2,
           2,
           3,
           3,
           3,
           2.9999999999999996,
           3,
           3,
           3,
           3,
           3,
           3,
           1.853174603174603,
           1.8369230769230769,
           2.24364583000096,
           2.272727272727273,
           1.9130434782608694,
           2.1578947368421053,
           1.893081761006289,
           2.2714335910049193,
           2.049132947976879,
           1.918333790079474
          ]
         },
         "name": "",
         "parents": [
          "m/3",
          "d/1",
          "c/3",
          "a/3",
          "u/3",
          "q/1",
          "o/3",
          "s/1",
          "n/1",
          "m/1",
          "s/3",
          "u/1",
          "o/1",
          "a/1",
          "c/1",
          "f/3",
          "n/3",
          "d/3",
          "q/3",
          "q/2",
          "n/2",
          "d/2",
          "o/2",
          "a/2",
          "c/2",
          "s/2",
          "u/2",
          "f/2",
          "m/2",
          "a",
          "c",
          "d",
          "m",
          "n",
          "o",
          "q",
          "s",
          "u",
          "a",
          "c",
          "d",
          "f",
          "m",
          "n",
          "o",
          "q",
          "s",
          "u",
          "a",
          "c",
          "d",
          "f",
          "m",
          "n",
          "o",
          "q",
          "s",
          "u",
          "",
          "",
          "",
          "",
          "",
          "",
          "",
          "",
          "",
          ""
         ],
         "type": "treemap",
         "values": [
          8.695652173913043,
          9.32131546114719,
          10.153846153846153,
          11.507936507936508,
          13.044669772540422,
          13.721011946591707,
          14.465408805031446,
          15.31791907514451,
          15.789473684210526,
          17.391304347826086,
          20.23121387283237,
          21.211290764593038,
          25.157232704402517,
          26.19047619047619,
          26.46153846153846,
          27.272727272727273,
          31.57894736842105,
          33.68589846124316,
          40.86437104708363,
          45.41461700632467,
          52.63157894736842,
          56.99278607760965,
          60.37735849056604,
          62.301587301587304,
          63.38461538461539,
          64.45086705202313,
          65.74403946286654,
          72.72727272727273,
          73.91304347826087,
          26.19047619047619,
          26.46153846153846,
          9.32131546114719,
          17.391304347826086,
          15.789473684210526,
          25.157232704402517,
          13.721011946591707,
          15.31791907514451,
          21.211290764593038,
          62.301587301587304,
          63.38461538461539,
          56.99278607760965,
          72.72727272727273,
          73.91304347826087,
          52.63157894736842,
          60.37735849056604,
          45.41461700632467,
          64.45086705202313,
          65.74403946286654,
          11.507936507936508,
          10.153846153846153,
          33.68589846124316,
          27.272727272727273,
          8.695652173913043,
          31.57894736842105,
          14.465408805031446,
          40.86437104708363,
          20.23121387283237,
          13.044669772540422,
          100,
          100,
          100,
          100,
          100.00000000000001,
          100,
          100,
          100,
          100,
          99.99999999999999
         ]
        }
       ],
       "layout": {
        "coloraxis": {
         "colorbar": {
          "title": {
           "text": "damage_grade"
          }
         },
         "colorscale": [
          [
           0,
           "darkgreen"
          ],
          [
           0.5,
           "darkblue"
          ],
          [
           1,
           "darkred"
          ]
         ]
        },
        "legend": {
         "tracegroupgap": 0
        },
        "margin": {
         "b": 25,
         "l": 25,
         "r": 25,
         "t": 50
        },
        "template": {
         "data": {
          "bar": [
           {
            "error_x": {
             "color": "#2a3f5f"
            },
            "error_y": {
             "color": "#2a3f5f"
            },
            "marker": {
             "line": {
              "color": "#E5ECF6",
              "width": 0.5
             },
             "pattern": {
              "fillmode": "overlay",
              "size": 10,
              "solidity": 0.2
             }
            },
            "type": "bar"
           }
          ],
          "barpolar": [
           {
            "marker": {
             "line": {
              "color": "#E5ECF6",
              "width": 0.5
             },
             "pattern": {
              "fillmode": "overlay",
              "size": 10,
              "solidity": 0.2
             }
            },
            "type": "barpolar"
           }
          ],
          "carpet": [
           {
            "aaxis": {
             "endlinecolor": "#2a3f5f",
             "gridcolor": "white",
             "linecolor": "white",
             "minorgridcolor": "white",
             "startlinecolor": "#2a3f5f"
            },
            "baxis": {
             "endlinecolor": "#2a3f5f",
             "gridcolor": "white",
             "linecolor": "white",
             "minorgridcolor": "white",
             "startlinecolor": "#2a3f5f"
            },
            "type": "carpet"
           }
          ],
          "choropleth": [
           {
            "colorbar": {
             "outlinewidth": 0,
             "ticks": ""
            },
            "type": "choropleth"
           }
          ],
          "contour": [
           {
            "colorbar": {
             "outlinewidth": 0,
             "ticks": ""
            },
            "colorscale": [
             [
              0,
              "#0d0887"
             ],
             [
              0.1111111111111111,
              "#46039f"
             ],
             [
              0.2222222222222222,
              "#7201a8"
             ],
             [
              0.3333333333333333,
              "#9c179e"
             ],
             [
              0.4444444444444444,
              "#bd3786"
             ],
             [
              0.5555555555555556,
              "#d8576b"
             ],
             [
              0.6666666666666666,
              "#ed7953"
             ],
             [
              0.7777777777777778,
              "#fb9f3a"
             ],
             [
              0.8888888888888888,
              "#fdca26"
             ],
             [
              1,
              "#f0f921"
             ]
            ],
            "type": "contour"
           }
          ],
          "contourcarpet": [
           {
            "colorbar": {
             "outlinewidth": 0,
             "ticks": ""
            },
            "type": "contourcarpet"
           }
          ],
          "heatmap": [
           {
            "colorbar": {
             "outlinewidth": 0,
             "ticks": ""
            },
            "colorscale": [
             [
              0,
              "#0d0887"
             ],
             [
              0.1111111111111111,
              "#46039f"
             ],
             [
              0.2222222222222222,
              "#7201a8"
             ],
             [
              0.3333333333333333,
              "#9c179e"
             ],
             [
              0.4444444444444444,
              "#bd3786"
             ],
             [
              0.5555555555555556,
              "#d8576b"
             ],
             [
              0.6666666666666666,
              "#ed7953"
             ],
             [
              0.7777777777777778,
              "#fb9f3a"
             ],
             [
              0.8888888888888888,
              "#fdca26"
             ],
             [
              1,
              "#f0f921"
             ]
            ],
            "type": "heatmap"
           }
          ],
          "heatmapgl": [
           {
            "colorbar": {
             "outlinewidth": 0,
             "ticks": ""
            },
            "colorscale": [
             [
              0,
              "#0d0887"
             ],
             [
              0.1111111111111111,
              "#46039f"
             ],
             [
              0.2222222222222222,
              "#7201a8"
             ],
             [
              0.3333333333333333,
              "#9c179e"
             ],
             [
              0.4444444444444444,
              "#bd3786"
             ],
             [
              0.5555555555555556,
              "#d8576b"
             ],
             [
              0.6666666666666666,
              "#ed7953"
             ],
             [
              0.7777777777777778,
              "#fb9f3a"
             ],
             [
              0.8888888888888888,
              "#fdca26"
             ],
             [
              1,
              "#f0f921"
             ]
            ],
            "type": "heatmapgl"
           }
          ],
          "histogram": [
           {
            "marker": {
             "pattern": {
              "fillmode": "overlay",
              "size": 10,
              "solidity": 0.2
             }
            },
            "type": "histogram"
           }
          ],
          "histogram2d": [
           {
            "colorbar": {
             "outlinewidth": 0,
             "ticks": ""
            },
            "colorscale": [
             [
              0,
              "#0d0887"
             ],
             [
              0.1111111111111111,
              "#46039f"
             ],
             [
              0.2222222222222222,
              "#7201a8"
             ],
             [
              0.3333333333333333,
              "#9c179e"
             ],
             [
              0.4444444444444444,
              "#bd3786"
             ],
             [
              0.5555555555555556,
              "#d8576b"
             ],
             [
              0.6666666666666666,
              "#ed7953"
             ],
             [
              0.7777777777777778,
              "#fb9f3a"
             ],
             [
              0.8888888888888888,
              "#fdca26"
             ],
             [
              1,
              "#f0f921"
             ]
            ],
            "type": "histogram2d"
           }
          ],
          "histogram2dcontour": [
           {
            "colorbar": {
             "outlinewidth": 0,
             "ticks": ""
            },
            "colorscale": [
             [
              0,
              "#0d0887"
             ],
             [
              0.1111111111111111,
              "#46039f"
             ],
             [
              0.2222222222222222,
              "#7201a8"
             ],
             [
              0.3333333333333333,
              "#9c179e"
             ],
             [
              0.4444444444444444,
              "#bd3786"
             ],
             [
              0.5555555555555556,
              "#d8576b"
             ],
             [
              0.6666666666666666,
              "#ed7953"
             ],
             [
              0.7777777777777778,
              "#fb9f3a"
             ],
             [
              0.8888888888888888,
              "#fdca26"
             ],
             [
              1,
              "#f0f921"
             ]
            ],
            "type": "histogram2dcontour"
           }
          ],
          "mesh3d": [
           {
            "colorbar": {
             "outlinewidth": 0,
             "ticks": ""
            },
            "type": "mesh3d"
           }
          ],
          "parcoords": [
           {
            "line": {
             "colorbar": {
              "outlinewidth": 0,
              "ticks": ""
             }
            },
            "type": "parcoords"
           }
          ],
          "pie": [
           {
            "automargin": true,
            "type": "pie"
           }
          ],
          "scatter": [
           {
            "marker": {
             "colorbar": {
              "outlinewidth": 0,
              "ticks": ""
             }
            },
            "type": "scatter"
           }
          ],
          "scatter3d": [
           {
            "line": {
             "colorbar": {
              "outlinewidth": 0,
              "ticks": ""
             }
            },
            "marker": {
             "colorbar": {
              "outlinewidth": 0,
              "ticks": ""
             }
            },
            "type": "scatter3d"
           }
          ],
          "scattercarpet": [
           {
            "marker": {
             "colorbar": {
              "outlinewidth": 0,
              "ticks": ""
             }
            },
            "type": "scattercarpet"
           }
          ],
          "scattergeo": [
           {
            "marker": {
             "colorbar": {
              "outlinewidth": 0,
              "ticks": ""
             }
            },
            "type": "scattergeo"
           }
          ],
          "scattergl": [
           {
            "marker": {
             "colorbar": {
              "outlinewidth": 0,
              "ticks": ""
             }
            },
            "type": "scattergl"
           }
          ],
          "scattermapbox": [
           {
            "marker": {
             "colorbar": {
              "outlinewidth": 0,
              "ticks": ""
             }
            },
            "type": "scattermapbox"
           }
          ],
          "scatterpolar": [
           {
            "marker": {
             "colorbar": {
              "outlinewidth": 0,
              "ticks": ""
             }
            },
            "type": "scatterpolar"
           }
          ],
          "scatterpolargl": [
           {
            "marker": {
             "colorbar": {
              "outlinewidth": 0,
              "ticks": ""
             }
            },
            "type": "scatterpolargl"
           }
          ],
          "scatterternary": [
           {
            "marker": {
             "colorbar": {
              "outlinewidth": 0,
              "ticks": ""
             }
            },
            "type": "scatterternary"
           }
          ],
          "surface": [
           {
            "colorbar": {
             "outlinewidth": 0,
             "ticks": ""
            },
            "colorscale": [
             [
              0,
              "#0d0887"
             ],
             [
              0.1111111111111111,
              "#46039f"
             ],
             [
              0.2222222222222222,
              "#7201a8"
             ],
             [
              0.3333333333333333,
              "#9c179e"
             ],
             [
              0.4444444444444444,
              "#bd3786"
             ],
             [
              0.5555555555555556,
              "#d8576b"
             ],
             [
              0.6666666666666666,
              "#ed7953"
             ],
             [
              0.7777777777777778,
              "#fb9f3a"
             ],
             [
              0.8888888888888888,
              "#fdca26"
             ],
             [
              1,
              "#f0f921"
             ]
            ],
            "type": "surface"
           }
          ],
          "table": [
           {
            "cells": {
             "fill": {
              "color": "#EBF0F8"
             },
             "line": {
              "color": "white"
             }
            },
            "header": {
             "fill": {
              "color": "#C8D4E3"
             },
             "line": {
              "color": "white"
             }
            },
            "type": "table"
           }
          ]
         },
         "layout": {
          "annotationdefaults": {
           "arrowcolor": "#2a3f5f",
           "arrowhead": 0,
           "arrowwidth": 1
          },
          "autotypenumbers": "strict",
          "coloraxis": {
           "colorbar": {
            "outlinewidth": 0,
            "ticks": ""
           }
          },
          "colorscale": {
           "diverging": [
            [
             0,
             "#8e0152"
            ],
            [
             0.1,
             "#c51b7d"
            ],
            [
             0.2,
             "#de77ae"
            ],
            [
             0.3,
             "#f1b6da"
            ],
            [
             0.4,
             "#fde0ef"
            ],
            [
             0.5,
             "#f7f7f7"
            ],
            [
             0.6,
             "#e6f5d0"
            ],
            [
             0.7,
             "#b8e186"
            ],
            [
             0.8,
             "#7fbc41"
            ],
            [
             0.9,
             "#4d9221"
            ],
            [
             1,
             "#276419"
            ]
           ],
           "sequential": [
            [
             0,
             "#0d0887"
            ],
            [
             0.1111111111111111,
             "#46039f"
            ],
            [
             0.2222222222222222,
             "#7201a8"
            ],
            [
             0.3333333333333333,
             "#9c179e"
            ],
            [
             0.4444444444444444,
             "#bd3786"
            ],
            [
             0.5555555555555556,
             "#d8576b"
            ],
            [
             0.6666666666666666,
             "#ed7953"
            ],
            [
             0.7777777777777778,
             "#fb9f3a"
            ],
            [
             0.8888888888888888,
             "#fdca26"
            ],
            [
             1,
             "#f0f921"
            ]
           ],
           "sequentialminus": [
            [
             0,
             "#0d0887"
            ],
            [
             0.1111111111111111,
             "#46039f"
            ],
            [
             0.2222222222222222,
             "#7201a8"
            ],
            [
             0.3333333333333333,
             "#9c179e"
            ],
            [
             0.4444444444444444,
             "#bd3786"
            ],
            [
             0.5555555555555556,
             "#d8576b"
            ],
            [
             0.6666666666666666,
             "#ed7953"
            ],
            [
             0.7777777777777778,
             "#fb9f3a"
            ],
            [
             0.8888888888888888,
             "#fdca26"
            ],
            [
             1,
             "#f0f921"
            ]
           ]
          },
          "colorway": [
           "#636efa",
           "#EF553B",
           "#00cc96",
           "#ab63fa",
           "#FFA15A",
           "#19d3f3",
           "#FF6692",
           "#B6E880",
           "#FF97FF",
           "#FECB52"
          ],
          "font": {
           "color": "#2a3f5f"
          },
          "geo": {
           "bgcolor": "white",
           "lakecolor": "white",
           "landcolor": "#E5ECF6",
           "showlakes": true,
           "showland": true,
           "subunitcolor": "white"
          },
          "hoverlabel": {
           "align": "left"
          },
          "hovermode": "closest",
          "mapbox": {
           "style": "light"
          },
          "paper_bgcolor": "white",
          "plot_bgcolor": "#E5ECF6",
          "polar": {
           "angularaxis": {
            "gridcolor": "white",
            "linecolor": "white",
            "ticks": ""
           },
           "bgcolor": "#E5ECF6",
           "radialaxis": {
            "gridcolor": "white",
            "linecolor": "white",
            "ticks": ""
           }
          },
          "scene": {
           "xaxis": {
            "backgroundcolor": "#E5ECF6",
            "gridcolor": "white",
            "gridwidth": 2,
            "linecolor": "white",
            "showbackground": true,
            "ticks": "",
            "zerolinecolor": "white"
           },
           "yaxis": {
            "backgroundcolor": "#E5ECF6",
            "gridcolor": "white",
            "gridwidth": 2,
            "linecolor": "white",
            "showbackground": true,
            "ticks": "",
            "zerolinecolor": "white"
           },
           "zaxis": {
            "backgroundcolor": "#E5ECF6",
            "gridcolor": "white",
            "gridwidth": 2,
            "linecolor": "white",
            "showbackground": true,
            "ticks": "",
            "zerolinecolor": "white"
           }
          },
          "shapedefaults": {
           "line": {
            "color": "#2a3f5f"
           }
          },
          "ternary": {
           "aaxis": {
            "gridcolor": "white",
            "linecolor": "white",
            "ticks": ""
           },
           "baxis": {
            "gridcolor": "white",
            "linecolor": "white",
            "ticks": ""
           },
           "bgcolor": "#E5ECF6",
           "caxis": {
            "gridcolor": "white",
            "linecolor": "white",
            "ticks": ""
           }
          },
          "title": {
           "x": 0.05
          },
          "xaxis": {
           "automargin": true,
           "gridcolor": "white",
           "linecolor": "white",
           "ticks": "",
           "title": {
            "standoff": 15
           },
           "zerolinecolor": "white",
           "zerolinewidth": 2
          },
          "yaxis": {
           "automargin": true,
           "gridcolor": "white",
           "linecolor": "white",
           "ticks": "",
           "title": {
            "standoff": 15
           },
           "zerolinecolor": "white",
           "zerolinewidth": 2
          }
         }
        },
        "title": {
         "text": "Damage grade distribution for each plan configuration"
        }
       }
      },
      "text/html": [
       "<div>                            <div id=\"1117c5a4-a7a9-4dc4-8909-047ca2dc2196\" class=\"plotly-graph-div\" style=\"height:525px; width:100%;\"></div>            <script type=\"text/javascript\">                require([\"plotly\"], function(Plotly) {                    window.PLOTLYENV=window.PLOTLYENV || {};                                    if (document.getElementById(\"1117c5a4-a7a9-4dc4-8909-047ca2dc2196\")) {                    Plotly.newPlot(                        \"1117c5a4-a7a9-4dc4-8909-047ca2dc2196\",                        [{\"branchvalues\":\"total\",\"customdata\":[[3.0],[1.0],[3.0],[3.0],[3.0],[1.0],[3.0],[1.0],[1.0],[1.0],[3.0],[1.0],[1.0],[1.0],[1.0],[2.9999999999999996],[3.0],[3.0],[3.0],[2.0],[2.0],[2.0],[2.0],[2.0],[2.0],[2.0],[2.0],[2.0],[2.0],[1.0],[1.0],[1.0],[1.0],[1.0],[1.0],[1.0],[1.0],[1.0],[2.0],[2.0],[2.0],[2.0],[2.0],[2.0],[2.0],[2.0],[2.0],[2.0],[3.0],[3.0],[3.0],[2.9999999999999996],[3.0],[3.0],[3.0],[3.0],[3.0],[3.0],[1.853174603174603],[1.8369230769230769],[2.24364583000096],[2.272727272727273],[1.9130434782608694],[2.1578947368421053],[1.893081761006289],[2.2714335910049193],[2.049132947976879],[1.918333790079474]],\"domain\":{\"x\":[0.0,1.0],\"y\":[0.0,1.0]},\"hovertemplate\":\"labels=%{label}<br>count=%{value}<br>parent=%{parent}<br>id=%{id}<br>damage_grade=%{color}<extra></extra>\",\"ids\":[\"m/3/8.695652173913043\",\"d/1/9.32131546114719\",\"c/3/10.153846153846153\",\"a/3/11.507936507936508\",\"u/3/13.044669772540422\",\"q/1/13.721011946591707\",\"o/3/14.465408805031446\",\"s/1/15.31791907514451\",\"n/1/15.789473684210526\",\"m/1/17.391304347826086\",\"s/3/20.23121387283237\",\"u/1/21.211290764593038\",\"o/1/25.157232704402517\",\"a/1/26.19047619047619\",\"c/1/26.46153846153846\",\"f/3/27.272727272727273\",\"n/3/31.57894736842105\",\"d/3/33.68589846124316\",\"q/3/40.86437104708363\",\"q/2/45.41461700632467\",\"n/2/52.63157894736842\",\"d/2/56.99278607760965\",\"o/2/60.37735849056604\",\"a/2/62.301587301587304\",\"c/2/63.38461538461539\",\"s/2/64.45086705202313\",\"u/2/65.74403946286654\",\"f/2/72.72727272727273\",\"m/2/73.91304347826087\",\"a/1\",\"c/1\",\"d/1\",\"m/1\",\"n/1\",\"o/1\",\"q/1\",\"s/1\",\"u/1\",\"a/2\",\"c/2\",\"d/2\",\"f/2\",\"m/2\",\"n/2\",\"o/2\",\"q/2\",\"s/2\",\"u/2\",\"a/3\",\"c/3\",\"d/3\",\"f/3\",\"m/3\",\"n/3\",\"o/3\",\"q/3\",\"s/3\",\"u/3\",\"a\",\"c\",\"d\",\"f\",\"m\",\"n\",\"o\",\"q\",\"s\",\"u\"],\"labels\":[\"8.695652173913043\",\"9.32131546114719\",\"10.153846153846153\",\"11.507936507936508\",\"13.044669772540422\",\"13.721011946591707\",\"14.465408805031446\",\"15.31791907514451\",\"15.789473684210526\",\"17.391304347826086\",\"20.23121387283237\",\"21.211290764593038\",\"25.157232704402517\",\"26.19047619047619\",\"26.46153846153846\",\"27.272727272727273\",\"31.57894736842105\",\"33.68589846124316\",\"40.86437104708363\",\"45.41461700632467\",\"52.63157894736842\",\"56.99278607760965\",\"60.37735849056604\",\"62.301587301587304\",\"63.38461538461539\",\"64.45086705202313\",\"65.74403946286654\",\"72.72727272727273\",\"73.91304347826087\",\"1\",\"1\",\"1\",\"1\",\"1\",\"1\",\"1\",\"1\",\"1\",\"2\",\"2\",\"2\",\"2\",\"2\",\"2\",\"2\",\"2\",\"2\",\"2\",\"3\",\"3\",\"3\",\"3\",\"3\",\"3\",\"3\",\"3\",\"3\",\"3\",\"a\",\"c\",\"d\",\"f\",\"m\",\"n\",\"o\",\"q\",\"s\",\"u\"],\"marker\":{\"coloraxis\":\"coloraxis\",\"colors\":[3.0,1.0,3.0,3.0,3.0,1.0,3.0,1.0,1.0,1.0,3.0,1.0,1.0,1.0,1.0,2.9999999999999996,3.0,3.0,3.0,2.0,2.0,2.0,2.0,2.0,2.0,2.0,2.0,2.0,2.0,1.0,1.0,1.0,1.0,1.0,1.0,1.0,1.0,1.0,2.0,2.0,2.0,2.0,2.0,2.0,2.0,2.0,2.0,2.0,3.0,3.0,3.0,2.9999999999999996,3.0,3.0,3.0,3.0,3.0,3.0,1.853174603174603,1.8369230769230769,2.24364583000096,2.272727272727273,1.9130434782608694,2.1578947368421053,1.893081761006289,2.2714335910049193,2.049132947976879,1.918333790079474]},\"name\":\"\",\"parents\":[\"m/3\",\"d/1\",\"c/3\",\"a/3\",\"u/3\",\"q/1\",\"o/3\",\"s/1\",\"n/1\",\"m/1\",\"s/3\",\"u/1\",\"o/1\",\"a/1\",\"c/1\",\"f/3\",\"n/3\",\"d/3\",\"q/3\",\"q/2\",\"n/2\",\"d/2\",\"o/2\",\"a/2\",\"c/2\",\"s/2\",\"u/2\",\"f/2\",\"m/2\",\"a\",\"c\",\"d\",\"m\",\"n\",\"o\",\"q\",\"s\",\"u\",\"a\",\"c\",\"d\",\"f\",\"m\",\"n\",\"o\",\"q\",\"s\",\"u\",\"a\",\"c\",\"d\",\"f\",\"m\",\"n\",\"o\",\"q\",\"s\",\"u\",\"\",\"\",\"\",\"\",\"\",\"\",\"\",\"\",\"\",\"\"],\"type\":\"treemap\",\"values\":[8.695652173913043,9.32131546114719,10.153846153846153,11.507936507936508,13.044669772540422,13.721011946591707,14.465408805031446,15.31791907514451,15.789473684210526,17.391304347826086,20.23121387283237,21.211290764593038,25.157232704402517,26.19047619047619,26.46153846153846,27.272727272727273,31.57894736842105,33.68589846124316,40.86437104708363,45.41461700632467,52.63157894736842,56.99278607760965,60.37735849056604,62.301587301587304,63.38461538461539,64.45086705202313,65.74403946286654,72.72727272727273,73.91304347826087,26.19047619047619,26.46153846153846,9.32131546114719,17.391304347826086,15.789473684210526,25.157232704402517,13.721011946591707,15.31791907514451,21.211290764593038,62.301587301587304,63.38461538461539,56.99278607760965,72.72727272727273,73.91304347826087,52.63157894736842,60.37735849056604,45.41461700632467,64.45086705202313,65.74403946286654,11.507936507936508,10.153846153846153,33.68589846124316,27.272727272727273,8.695652173913043,31.57894736842105,14.465408805031446,40.86437104708363,20.23121387283237,13.044669772540422,100.0,100.0,100.0,100.0,100.00000000000001,100.0,100.0,100.0,100.0,99.99999999999999]}],                        {\"coloraxis\":{\"colorbar\":{\"title\":{\"text\":\"damage_grade\"}},\"colorscale\":[[0.0,\"darkgreen\"],[0.5,\"darkblue\"],[1.0,\"darkred\"]]},\"legend\":{\"tracegroupgap\":0},\"margin\":{\"b\":25,\"l\":25,\"r\":25,\"t\":50},\"template\":{\"data\":{\"bar\":[{\"error_x\":{\"color\":\"#2a3f5f\"},\"error_y\":{\"color\":\"#2a3f5f\"},\"marker\":{\"line\":{\"color\":\"#E5ECF6\",\"width\":0.5},\"pattern\":{\"fillmode\":\"overlay\",\"size\":10,\"solidity\":0.2}},\"type\":\"bar\"}],\"barpolar\":[{\"marker\":{\"line\":{\"color\":\"#E5ECF6\",\"width\":0.5},\"pattern\":{\"fillmode\":\"overlay\",\"size\":10,\"solidity\":0.2}},\"type\":\"barpolar\"}],\"carpet\":[{\"aaxis\":{\"endlinecolor\":\"#2a3f5f\",\"gridcolor\":\"white\",\"linecolor\":\"white\",\"minorgridcolor\":\"white\",\"startlinecolor\":\"#2a3f5f\"},\"baxis\":{\"endlinecolor\":\"#2a3f5f\",\"gridcolor\":\"white\",\"linecolor\":\"white\",\"minorgridcolor\":\"white\",\"startlinecolor\":\"#2a3f5f\"},\"type\":\"carpet\"}],\"choropleth\":[{\"colorbar\":{\"outlinewidth\":0,\"ticks\":\"\"},\"type\":\"choropleth\"}],\"contour\":[{\"colorbar\":{\"outlinewidth\":0,\"ticks\":\"\"},\"colorscale\":[[0.0,\"#0d0887\"],[0.1111111111111111,\"#46039f\"],[0.2222222222222222,\"#7201a8\"],[0.3333333333333333,\"#9c179e\"],[0.4444444444444444,\"#bd3786\"],[0.5555555555555556,\"#d8576b\"],[0.6666666666666666,\"#ed7953\"],[0.7777777777777778,\"#fb9f3a\"],[0.8888888888888888,\"#fdca26\"],[1.0,\"#f0f921\"]],\"type\":\"contour\"}],\"contourcarpet\":[{\"colorbar\":{\"outlinewidth\":0,\"ticks\":\"\"},\"type\":\"contourcarpet\"}],\"heatmap\":[{\"colorbar\":{\"outlinewidth\":0,\"ticks\":\"\"},\"colorscale\":[[0.0,\"#0d0887\"],[0.1111111111111111,\"#46039f\"],[0.2222222222222222,\"#7201a8\"],[0.3333333333333333,\"#9c179e\"],[0.4444444444444444,\"#bd3786\"],[0.5555555555555556,\"#d8576b\"],[0.6666666666666666,\"#ed7953\"],[0.7777777777777778,\"#fb9f3a\"],[0.8888888888888888,\"#fdca26\"],[1.0,\"#f0f921\"]],\"type\":\"heatmap\"}],\"heatmapgl\":[{\"colorbar\":{\"outlinewidth\":0,\"ticks\":\"\"},\"colorscale\":[[0.0,\"#0d0887\"],[0.1111111111111111,\"#46039f\"],[0.2222222222222222,\"#7201a8\"],[0.3333333333333333,\"#9c179e\"],[0.4444444444444444,\"#bd3786\"],[0.5555555555555556,\"#d8576b\"],[0.6666666666666666,\"#ed7953\"],[0.7777777777777778,\"#fb9f3a\"],[0.8888888888888888,\"#fdca26\"],[1.0,\"#f0f921\"]],\"type\":\"heatmapgl\"}],\"histogram\":[{\"marker\":{\"pattern\":{\"fillmode\":\"overlay\",\"size\":10,\"solidity\":0.2}},\"type\":\"histogram\"}],\"histogram2d\":[{\"colorbar\":{\"outlinewidth\":0,\"ticks\":\"\"},\"colorscale\":[[0.0,\"#0d0887\"],[0.1111111111111111,\"#46039f\"],[0.2222222222222222,\"#7201a8\"],[0.3333333333333333,\"#9c179e\"],[0.4444444444444444,\"#bd3786\"],[0.5555555555555556,\"#d8576b\"],[0.6666666666666666,\"#ed7953\"],[0.7777777777777778,\"#fb9f3a\"],[0.8888888888888888,\"#fdca26\"],[1.0,\"#f0f921\"]],\"type\":\"histogram2d\"}],\"histogram2dcontour\":[{\"colorbar\":{\"outlinewidth\":0,\"ticks\":\"\"},\"colorscale\":[[0.0,\"#0d0887\"],[0.1111111111111111,\"#46039f\"],[0.2222222222222222,\"#7201a8\"],[0.3333333333333333,\"#9c179e\"],[0.4444444444444444,\"#bd3786\"],[0.5555555555555556,\"#d8576b\"],[0.6666666666666666,\"#ed7953\"],[0.7777777777777778,\"#fb9f3a\"],[0.8888888888888888,\"#fdca26\"],[1.0,\"#f0f921\"]],\"type\":\"histogram2dcontour\"}],\"mesh3d\":[{\"colorbar\":{\"outlinewidth\":0,\"ticks\":\"\"},\"type\":\"mesh3d\"}],\"parcoords\":[{\"line\":{\"colorbar\":{\"outlinewidth\":0,\"ticks\":\"\"}},\"type\":\"parcoords\"}],\"pie\":[{\"automargin\":true,\"type\":\"pie\"}],\"scatter\":[{\"marker\":{\"colorbar\":{\"outlinewidth\":0,\"ticks\":\"\"}},\"type\":\"scatter\"}],\"scatter3d\":[{\"line\":{\"colorbar\":{\"outlinewidth\":0,\"ticks\":\"\"}},\"marker\":{\"colorbar\":{\"outlinewidth\":0,\"ticks\":\"\"}},\"type\":\"scatter3d\"}],\"scattercarpet\":[{\"marker\":{\"colorbar\":{\"outlinewidth\":0,\"ticks\":\"\"}},\"type\":\"scattercarpet\"}],\"scattergeo\":[{\"marker\":{\"colorbar\":{\"outlinewidth\":0,\"ticks\":\"\"}},\"type\":\"scattergeo\"}],\"scattergl\":[{\"marker\":{\"colorbar\":{\"outlinewidth\":0,\"ticks\":\"\"}},\"type\":\"scattergl\"}],\"scattermapbox\":[{\"marker\":{\"colorbar\":{\"outlinewidth\":0,\"ticks\":\"\"}},\"type\":\"scattermapbox\"}],\"scatterpolar\":[{\"marker\":{\"colorbar\":{\"outlinewidth\":0,\"ticks\":\"\"}},\"type\":\"scatterpolar\"}],\"scatterpolargl\":[{\"marker\":{\"colorbar\":{\"outlinewidth\":0,\"ticks\":\"\"}},\"type\":\"scatterpolargl\"}],\"scatterternary\":[{\"marker\":{\"colorbar\":{\"outlinewidth\":0,\"ticks\":\"\"}},\"type\":\"scatterternary\"}],\"surface\":[{\"colorbar\":{\"outlinewidth\":0,\"ticks\":\"\"},\"colorscale\":[[0.0,\"#0d0887\"],[0.1111111111111111,\"#46039f\"],[0.2222222222222222,\"#7201a8\"],[0.3333333333333333,\"#9c179e\"],[0.4444444444444444,\"#bd3786\"],[0.5555555555555556,\"#d8576b\"],[0.6666666666666666,\"#ed7953\"],[0.7777777777777778,\"#fb9f3a\"],[0.8888888888888888,\"#fdca26\"],[1.0,\"#f0f921\"]],\"type\":\"surface\"}],\"table\":[{\"cells\":{\"fill\":{\"color\":\"#EBF0F8\"},\"line\":{\"color\":\"white\"}},\"header\":{\"fill\":{\"color\":\"#C8D4E3\"},\"line\":{\"color\":\"white\"}},\"type\":\"table\"}]},\"layout\":{\"annotationdefaults\":{\"arrowcolor\":\"#2a3f5f\",\"arrowhead\":0,\"arrowwidth\":1},\"autotypenumbers\":\"strict\",\"coloraxis\":{\"colorbar\":{\"outlinewidth\":0,\"ticks\":\"\"}},\"colorscale\":{\"diverging\":[[0,\"#8e0152\"],[0.1,\"#c51b7d\"],[0.2,\"#de77ae\"],[0.3,\"#f1b6da\"],[0.4,\"#fde0ef\"],[0.5,\"#f7f7f7\"],[0.6,\"#e6f5d0\"],[0.7,\"#b8e186\"],[0.8,\"#7fbc41\"],[0.9,\"#4d9221\"],[1,\"#276419\"]],\"sequential\":[[0.0,\"#0d0887\"],[0.1111111111111111,\"#46039f\"],[0.2222222222222222,\"#7201a8\"],[0.3333333333333333,\"#9c179e\"],[0.4444444444444444,\"#bd3786\"],[0.5555555555555556,\"#d8576b\"],[0.6666666666666666,\"#ed7953\"],[0.7777777777777778,\"#fb9f3a\"],[0.8888888888888888,\"#fdca26\"],[1.0,\"#f0f921\"]],\"sequentialminus\":[[0.0,\"#0d0887\"],[0.1111111111111111,\"#46039f\"],[0.2222222222222222,\"#7201a8\"],[0.3333333333333333,\"#9c179e\"],[0.4444444444444444,\"#bd3786\"],[0.5555555555555556,\"#d8576b\"],[0.6666666666666666,\"#ed7953\"],[0.7777777777777778,\"#fb9f3a\"],[0.8888888888888888,\"#fdca26\"],[1.0,\"#f0f921\"]]},\"colorway\":[\"#636efa\",\"#EF553B\",\"#00cc96\",\"#ab63fa\",\"#FFA15A\",\"#19d3f3\",\"#FF6692\",\"#B6E880\",\"#FF97FF\",\"#FECB52\"],\"font\":{\"color\":\"#2a3f5f\"},\"geo\":{\"bgcolor\":\"white\",\"lakecolor\":\"white\",\"landcolor\":\"#E5ECF6\",\"showlakes\":true,\"showland\":true,\"subunitcolor\":\"white\"},\"hoverlabel\":{\"align\":\"left\"},\"hovermode\":\"closest\",\"mapbox\":{\"style\":\"light\"},\"paper_bgcolor\":\"white\",\"plot_bgcolor\":\"#E5ECF6\",\"polar\":{\"angularaxis\":{\"gridcolor\":\"white\",\"linecolor\":\"white\",\"ticks\":\"\"},\"bgcolor\":\"#E5ECF6\",\"radialaxis\":{\"gridcolor\":\"white\",\"linecolor\":\"white\",\"ticks\":\"\"}},\"scene\":{\"xaxis\":{\"backgroundcolor\":\"#E5ECF6\",\"gridcolor\":\"white\",\"gridwidth\":2,\"linecolor\":\"white\",\"showbackground\":true,\"ticks\":\"\",\"zerolinecolor\":\"white\"},\"yaxis\":{\"backgroundcolor\":\"#E5ECF6\",\"gridcolor\":\"white\",\"gridwidth\":2,\"linecolor\":\"white\",\"showbackground\":true,\"ticks\":\"\",\"zerolinecolor\":\"white\"},\"zaxis\":{\"backgroundcolor\":\"#E5ECF6\",\"gridcolor\":\"white\",\"gridwidth\":2,\"linecolor\":\"white\",\"showbackground\":true,\"ticks\":\"\",\"zerolinecolor\":\"white\"}},\"shapedefaults\":{\"line\":{\"color\":\"#2a3f5f\"}},\"ternary\":{\"aaxis\":{\"gridcolor\":\"white\",\"linecolor\":\"white\",\"ticks\":\"\"},\"baxis\":{\"gridcolor\":\"white\",\"linecolor\":\"white\",\"ticks\":\"\"},\"bgcolor\":\"#E5ECF6\",\"caxis\":{\"gridcolor\":\"white\",\"linecolor\":\"white\",\"ticks\":\"\"}},\"title\":{\"x\":0.05},\"xaxis\":{\"automargin\":true,\"gridcolor\":\"white\",\"linecolor\":\"white\",\"ticks\":\"\",\"title\":{\"standoff\":15},\"zerolinecolor\":\"white\",\"zerolinewidth\":2},\"yaxis\":{\"automargin\":true,\"gridcolor\":\"white\",\"linecolor\":\"white\",\"ticks\":\"\",\"title\":{\"standoff\":15},\"zerolinecolor\":\"white\",\"zerolinewidth\":2}}},\"title\":{\"text\":\"Damage grade distribution for each plan configuration\"}},                        {\"responsive\": true}                    ).then(function(){\n",
       "                            \n",
       "var gd = document.getElementById('1117c5a4-a7a9-4dc4-8909-047ca2dc2196');\n",
       "var x = new MutationObserver(function (mutations, observer) {{\n",
       "        var display = window.getComputedStyle(gd).display;\n",
       "        if (!display || display === 'none') {{\n",
       "            console.log([gd, 'removed!']);\n",
       "            Plotly.purge(gd);\n",
       "            observer.disconnect();\n",
       "        }}\n",
       "}});\n",
       "\n",
       "// Listen for the removal of the full notebook cells\n",
       "var notebookContainer = gd.closest('#notebook-container');\n",
       "if (notebookContainer) {{\n",
       "    x.observe(notebookContainer, {childList: true});\n",
       "}}\n",
       "\n",
       "// Listen for the clearing of the current output cell\n",
       "var outputEl = gd.closest('.output');\n",
       "if (outputEl) {{\n",
       "    x.observe(outputEl, {childList: true});\n",
       "}}\n",
       "\n",
       "                        })                };                });            </script>        </div>"
      ]
     },
     "metadata": {},
     "output_type": "display_data"
    }
   ],
   "source": [
    "import plotly.express as px\n",
    "import numpy as np\n",
    "import squarify\n",
    "\n",
    "df_temp=join_df.groupby(['plan_configuration','damage_grade']).size().reset_index(name='count')\n",
    "\n",
    "\n",
    "df_temp = df_temp.set_index(['plan_configuration', 'damage_grade'])\n",
    "\n",
    "df_temp = df_temp.groupby(level=0).apply(lambda x: 100 * x / float(x.sum())).reset_index()\n",
    "\n",
    "\n",
    "# fig = px.treemap(df_temp, path=[df_temp['plan_configuration'],df_temp['damage_grade']], values=df_temp['count'],\n",
    "#                   color=df_temp['count'],color_continuous_scale='RdBu')\n",
    "\n",
    "fig = px.treemap(df_temp, path=[df_temp['plan_configuration'],df_temp['damage_grade'],df_temp['count']], values=df_temp['count'],\n",
    "                  color=df_temp['damage_grade'],color_continuous_scale=['darkgreen','darkblue','darkred'],title='Damage grade distribution for each plan configuration')\n",
    " \n",
    "\n",
    "\n",
    "fig.update_layout(margin = dict(t=50, l=25, r=25, b=25))\n",
    "# fig.update_layout(margin = dict(t=5, l=5, r=5, b=5))\n",
    "fig.show()\n",
    "\n"
   ]
  },
  {
   "cell_type": "markdown",
   "metadata": {},
   "source": [
    "# Visualization\n",
    "\n",
    "- Visualization is performed using plotly\n",
    "\n",
    "- Treemap is used to show the plan configurations and damage grade \n",
    "\n",
    "# Facts:\n",
    "\n",
    "- There are 10 types of plan configurations in the dataset.\n",
    "\n",
    "- There are 3 types of damage grade levels  in the dataset.\n",
    "\n",
    "- The plan configurations are 'a','c','d','f','m','n','o','q','s','u'.\n",
    "\n",
    "- The damage grades are 1,2,3. 1 represents low damage,2 represents medium damage grade and 3 represent high damage grade.\n",
    "\n",
    " \n",
    "\n",
    "\n",
    "\n",
    "\n",
    "\n",
    "\n",
    "\n",
    "\n",
    "# observations \n",
    "\n",
    "\n",
    "\n",
    "\n",
    "\n",
    "\n",
    "- All the plan configurations have damage grade level 2 as the highest percentage \n",
    "\n",
    "- Plan configuration 'f' buildings doesnot have damage grade level 1\n",
    "\n",
    "- Plan configurations 'm','c','f','o','a','u' have lowest percentage in damage grade level 3\n",
    "\n",
    "- Plan configurations 'q','d','n','s' have lowest percentage in damage grade level 1 \n",
    "\n",
    "- Out of all plan configurations 'm' has highest percentage(74)  in damage grade level 2 \n",
    "\n",
    "- Out of all plan configurations 'm' has lowest percentage(9) in damage grade level 3\n",
    "\n"
   ]
  },
  {
   "cell_type": "code",
   "execution_count": null,
   "metadata": {},
   "outputs": [],
   "source": []
  }
 ],
 "metadata": {
  "kernelspec": {
   "display_name": "Python 3",
   "language": "python",
   "name": "python3"
  },
  "language_info": {
   "codemirror_mode": {
    "name": "ipython",
    "version": 3
   },
   "file_extension": ".py",
   "mimetype": "text/x-python",
   "name": "python",
   "nbconvert_exporter": "python",
   "pygments_lexer": "ipython3",
   "version": "3.8.5"
  }
 },
 "nbformat": 4,
 "nbformat_minor": 1
}
